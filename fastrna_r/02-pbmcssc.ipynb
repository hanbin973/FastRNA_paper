{
 "cells": [
  {
   "cell_type": "code",
   "execution_count": 2,
   "id": "858d653e",
   "metadata": {
    "scrolled": true
   },
   "outputs": [],
   "source": [
    "library(Seurat)\n",
    "library(Matrix)\n",
    "library(reticulate)\n",
    "library(glmpca)\n",
    "library(peakRAM)\n",
    "library(scry)\n",
    "library(SingleCellExperiment)\n",
    "library(glmGamPoi)\n",
    "library(harmony)"
   ]
  },
  {
   "cell_type": "markdown",
   "id": "24efb453",
   "metadata": {},
   "source": [
    "# Load data"
   ]
  },
  {
   "cell_type": "code",
   "execution_count": 3,
   "id": "c3fa8dee",
   "metadata": {},
   "outputs": [],
   "source": [
    "mtx <- readMM('/data01/hanbin973/fastrna_paper/datasets/pbmc_ssc/mat.mtx')\n",
    "meta <- read.csv('/data01/hanbin973/fastrna_paper/datasets/pbmc_ssc/meta.csv', row.names=1)\n",
    "colnames(mtx) <- rownames(meta)\n",
    "rownames(mtx) <- 1:nrow(mtx)\n",
    "covmat <- model.matrix(as.formula('~factor(Method)'), meta)\n",
    "covmat <- covmat[,2:ncol(covmat)]\n",
    "meta[,paste0('batch_',1:ncol(covmat))] <- covmat"
   ]
  },
  {
   "cell_type": "markdown",
   "id": "9c682a5b",
   "metadata": {},
   "source": [
    "# Seurat pipeline - log"
   ]
  },
  {
   "cell_type": "code",
   "execution_count": 3,
   "id": "65828dd6",
   "metadata": {},
   "outputs": [],
   "source": [
    "benchmark_seurat_log <- function(obj){\n",
    "    obj <- NormalizeData(obj, verbose=FALSE)\n",
    "    \n",
    "    obj.list <- SplitObject(obj, split.by=\"Method\")\n",
    "    obj.list <- lapply(X=obj.list, FUN=function(x){\n",
    "        x <- NormalizeData(x, verbose=FALSE)\n",
    "        x <- FindVariableFeatures(x, verbose=FALSE)\n",
    "    })\n",
    "    features <- SelectIntegrationFeatures(object.list=obj.list, verbose=FALSE)\n",
    "    obj.list <- lapply(X=obj.list, FUN=function(x){\n",
    "        x <- ScaleData(x, features=features, verbose=FALSE)\n",
    "        x <- RunPCA(x, features=features, verbose=FALSE)\n",
    "    })\n",
    "    \n",
    "    obj.anchors <- FindIntegrationAnchors(object.list=obj.list, anchor.features=features, reduction='rpca', verbose=FALSE)\n",
    "    obj.combined <- IntegrateData(anchorset=obj.anchors, verbose=FALSE)\n",
    "    DefaultAssay(obj.combined) <- \"integrated\"\n",
    "    obj.combined <- ScaleData(obj.combined, verbose=FALSE)\n",
    "    obj.combined <- RunPCA(obj.combined, npcs=20, verbose=FALSE)\n",
    "    \n",
    "    write.csv(Embeddings(obj.combined), 'pca_coord/pbmcssc/pca_log.csv')\n",
    "    obj.combined\n",
    "}"
   ]
  },
  {
   "cell_type": "code",
   "execution_count": 4,
   "id": "354c9411",
   "metadata": {
    "scrolled": true
   },
   "outputs": [],
   "source": [
    "obj <- CreateSeuratObject(mtx, meta.data=meta)\n",
    "result <- peakRAM(x <- benchmark_seurat_log(obj))"
   ]
  },
  {
   "cell_type": "code",
   "execution_count": 5,
   "id": "50c4620b",
   "metadata": {},
   "outputs": [
    {
     "data": {
      "text/html": [
       "<table class=\"dataframe\">\n",
       "<caption>A data.frame: 1 × 2</caption>\n",
       "<thead>\n",
       "\t<tr><th></th><th scope=col>Elapsed_Time_sec</th><th scope=col>Peak_RAM_Used_MiB</th></tr>\n",
       "\t<tr><th></th><th scope=col>&lt;dbl&gt;</th><th scope=col>&lt;dbl&gt;</th></tr>\n",
       "</thead>\n",
       "<tbody>\n",
       "\t<tr><th scope=row>1</th><td>81.031</td><td>2964</td></tr>\n",
       "</tbody>\n",
       "</table>\n"
      ],
      "text/latex": [
       "A data.frame: 1 × 2\n",
       "\\begin{tabular}{r|ll}\n",
       "  & Elapsed\\_Time\\_sec & Peak\\_RAM\\_Used\\_MiB\\\\\n",
       "  & <dbl> & <dbl>\\\\\n",
       "\\hline\n",
       "\t1 & 81.031 & 2964\\\\\n",
       "\\end{tabular}\n"
      ],
      "text/markdown": [
       "\n",
       "A data.frame: 1 × 2\n",
       "\n",
       "| <!--/--> | Elapsed_Time_sec &lt;dbl&gt; | Peak_RAM_Used_MiB &lt;dbl&gt; |\n",
       "|---|---|---|\n",
       "| 1 | 81.031 | 2964 |\n",
       "\n"
      ],
      "text/plain": [
       "  Elapsed_Time_sec Peak_RAM_Used_MiB\n",
       "1 81.031           2964             "
      ]
     },
     "metadata": {},
     "output_type": "display_data"
    }
   ],
   "source": [
    "result[,c('Elapsed_Time_sec', 'Peak_RAM_Used_MiB')]"
   ]
  },
  {
   "cell_type": "markdown",
   "id": "a5fb13b9",
   "metadata": {},
   "source": [
    "# Seurat pipeline - sct"
   ]
  },
  {
   "cell_type": "code",
   "execution_count": 6,
   "id": "6c2dd171",
   "metadata": {},
   "outputs": [],
   "source": [
    "benchmark_seurat_sct<- function(obj){\n",
    "    obj <- SCTransform(obj, variable.features.n=2000, \n",
    "                       latent_var=c('log_umi', paste0('batch_',1:ncol(covmat))), \n",
    "                       method=\"glmGamPoi\",\n",
    "                      verbose=FALSE)\n",
    "    obj <- RunPCA(obj, verbose=FALSE)\n",
    "    write.csv(Embeddings(obj), 'pca_coord/pbmcssc/pca_sct.csv')\n",
    "    obj\n",
    "}"
   ]
  },
  {
   "cell_type": "code",
   "execution_count": 7,
   "id": "256b2211",
   "metadata": {},
   "outputs": [],
   "source": [
    "obj <- CreateSeuratObject(mtx, meta.data=meta)\n",
    "result <- peakRAM(x <- benchmark_seurat_sct(obj))"
   ]
  },
  {
   "cell_type": "code",
   "execution_count": 8,
   "id": "e470ce48",
   "metadata": {},
   "outputs": [
    {
     "data": {
      "text/html": [
       "<table class=\"dataframe\">\n",
       "<caption>A data.frame: 1 × 2</caption>\n",
       "<thead>\n",
       "\t<tr><th></th><th scope=col>Elapsed_Time_sec</th><th scope=col>Peak_RAM_Used_MiB</th></tr>\n",
       "\t<tr><th></th><th scope=col>&lt;dbl&gt;</th><th scope=col>&lt;dbl&gt;</th></tr>\n",
       "</thead>\n",
       "<tbody>\n",
       "\t<tr><th scope=row>1</th><td>194.176</td><td>7163.9</td></tr>\n",
       "</tbody>\n",
       "</table>\n"
      ],
      "text/latex": [
       "A data.frame: 1 × 2\n",
       "\\begin{tabular}{r|ll}\n",
       "  & Elapsed\\_Time\\_sec & Peak\\_RAM\\_Used\\_MiB\\\\\n",
       "  & <dbl> & <dbl>\\\\\n",
       "\\hline\n",
       "\t1 & 194.176 & 7163.9\\\\\n",
       "\\end{tabular}\n"
      ],
      "text/markdown": [
       "\n",
       "A data.frame: 1 × 2\n",
       "\n",
       "| <!--/--> | Elapsed_Time_sec &lt;dbl&gt; | Peak_RAM_Used_MiB &lt;dbl&gt; |\n",
       "|---|---|---|\n",
       "| 1 | 194.176 | 7163.9 |\n",
       "\n"
      ],
      "text/plain": [
       "  Elapsed_Time_sec Peak_RAM_Used_MiB\n",
       "1 194.176          7163.9           "
      ]
     },
     "metadata": {},
     "output_type": "display_data"
    }
   ],
   "source": [
    "result[,c('Elapsed_Time_sec', 'Peak_RAM_Used_MiB')]"
   ]
  },
  {
   "cell_type": "markdown",
   "id": "75ccee7e",
   "metadata": {},
   "source": [
    "# glmpca"
   ]
  },
  {
   "cell_type": "code",
   "execution_count": 9,
   "id": "714e17ec",
   "metadata": {},
   "outputs": [],
   "source": [
    "benchmark_scry_glmpca <- function(obj){\n",
    "    obj <- devianceFeatureSelection(obj, assay=\"counts\", sorted=TRUE)\n",
    "    obj2 <- obj[1:2000,]\n",
    "    obj2 <- GLMPCA(obj2, 50, assay=\"counts\", minibatch=\"stochastic\", X=as.matrix(colData(obj2)))\n",
    "    write.csv(metadata(obj2)$glmpca$factors, 'pca_coord/pbmcssc/pca_glmpca.csv')\n",
    "}"
   ]
  },
  {
   "cell_type": "code",
   "execution_count": 10,
   "id": "d65e02d7",
   "metadata": {},
   "outputs": [],
   "source": [
    "obj <- SingleCellExperiment(list(counts=mtx))\n",
    "colData(obj)[,paste0('batch_',1:ncol(covmat))] <- covmat\n",
    "result <- peakRAM(x <- benchmark_scry_glmpca(obj))"
   ]
  },
  {
   "cell_type": "code",
   "execution_count": 12,
   "id": "40e34a97",
   "metadata": {},
   "outputs": [
    {
     "data": {
      "text/html": [
       "<table class=\"dataframe\">\n",
       "<caption>A data.frame: 1 × 2</caption>\n",
       "<thead>\n",
       "\t<tr><th></th><th scope=col>Elapsed_Time_sec</th><th scope=col>Peak_RAM_Used_MiB</th></tr>\n",
       "\t<tr><th></th><th scope=col>&lt;dbl&gt;</th><th scope=col>&lt;dbl&gt;</th></tr>\n",
       "</thead>\n",
       "<tbody>\n",
       "\t<tr><th scope=row>1</th><td>1121.989</td><td>3383.4</td></tr>\n",
       "</tbody>\n",
       "</table>\n"
      ],
      "text/latex": [
       "A data.frame: 1 × 2\n",
       "\\begin{tabular}{r|ll}\n",
       "  & Elapsed\\_Time\\_sec & Peak\\_RAM\\_Used\\_MiB\\\\\n",
       "  & <dbl> & <dbl>\\\\\n",
       "\\hline\n",
       "\t1 & 1121.989 & 3383.4\\\\\n",
       "\\end{tabular}\n"
      ],
      "text/markdown": [
       "\n",
       "A data.frame: 1 × 2\n",
       "\n",
       "| <!--/--> | Elapsed_Time_sec &lt;dbl&gt; | Peak_RAM_Used_MiB &lt;dbl&gt; |\n",
       "|---|---|---|\n",
       "| 1 | 1121.989 | 3383.4 |\n",
       "\n"
      ],
      "text/plain": [
       "  Elapsed_Time_sec Peak_RAM_Used_MiB\n",
       "1 1121.989         3383.4           "
      ]
     },
     "metadata": {},
     "output_type": "display_data"
    }
   ],
   "source": [
    "result[,c('Elapsed_Time_sec', 'Peak_RAM_Used_MiB')]"
   ]
  },
  {
   "cell_type": "markdown",
   "id": "320044ee",
   "metadata": {},
   "source": [
    "# Harmony"
   ]
  },
  {
   "cell_type": "code",
   "execution_count": 8,
   "id": "ff951d7b",
   "metadata": {},
   "outputs": [],
   "source": [
    "benchmark_harmony <- function(obj){\n",
    "    obj <- NormalizeData(obj)\n",
    "    obj <- FindVariableFeatures(obj, verbose=FALSE, nfeatures=2000)\n",
    "    obj <- ScaleData(obj, verbose=FALSE)\n",
    "    obj <- RunPCA(obj, verbose=FALSE)\n",
    "    obj <- obj %>% \n",
    "        RunHarmony(\"Method\", plot_convergence = FALSE, verbose=FALSE)\n",
    "    \n",
    "    write.csv(Embeddings(obj, 'harmony'), 'pca_coord/pbmcssc/pca_harmony.csv')\n",
    "    obj\n",
    "}"
   ]
  },
  {
   "cell_type": "code",
   "execution_count": 9,
   "id": "1719997e",
   "metadata": {},
   "outputs": [
    {
     "name": "stderr",
     "output_type": "stream",
     "text": [
      "Warning message:\n",
      "“Invalid name supplied, making object name syntactically valid. New object name is Seurat..ProjectDim.RNA.harmony; see ?make.names for more details on syntax validity”\n"
     ]
    }
   ],
   "source": [
    "obj <- CreateSeuratObject(mtx, meta.data=meta)\n",
    "result <- peakRAM(x <- benchmark_harmony(obj))"
   ]
  },
  {
   "cell_type": "code",
   "execution_count": 10,
   "id": "18618cb7",
   "metadata": {},
   "outputs": [
    {
     "data": {
      "text/html": [
       "<table class=\"dataframe\">\n",
       "<caption>A data.frame: 1 × 4</caption>\n",
       "<thead>\n",
       "\t<tr><th></th><th scope=col>Function_Call</th><th scope=col>Elapsed_Time_sec</th><th scope=col>Total_RAM_Used_MiB</th><th scope=col>Peak_RAM_Used_MiB</th></tr>\n",
       "\t<tr><th></th><th scope=col>&lt;chr&gt;</th><th scope=col>&lt;dbl&gt;</th><th scope=col>&lt;dbl&gt;</th><th scope=col>&lt;dbl&gt;</th></tr>\n",
       "</thead>\n",
       "<tbody>\n",
       "\t<tr><th scope=row>1</th><td>x&lt;-benchmark_harmony(obj)</td><td>37.08</td><td>-106.1</td><td>758</td></tr>\n",
       "</tbody>\n",
       "</table>\n"
      ],
      "text/latex": [
       "A data.frame: 1 × 4\n",
       "\\begin{tabular}{r|llll}\n",
       "  & Function\\_Call & Elapsed\\_Time\\_sec & Total\\_RAM\\_Used\\_MiB & Peak\\_RAM\\_Used\\_MiB\\\\\n",
       "  & <chr> & <dbl> & <dbl> & <dbl>\\\\\n",
       "\\hline\n",
       "\t1 & x<-benchmark\\_harmony(obj) & 37.08 & -106.1 & 758\\\\\n",
       "\\end{tabular}\n"
      ],
      "text/markdown": [
       "\n",
       "A data.frame: 1 × 4\n",
       "\n",
       "| <!--/--> | Function_Call &lt;chr&gt; | Elapsed_Time_sec &lt;dbl&gt; | Total_RAM_Used_MiB &lt;dbl&gt; | Peak_RAM_Used_MiB &lt;dbl&gt; |\n",
       "|---|---|---|---|---|\n",
       "| 1 | x&lt;-benchmark_harmony(obj) | 37.08 | -106.1 | 758 |\n",
       "\n"
      ],
      "text/plain": [
       "  Function_Call             Elapsed_Time_sec Total_RAM_Used_MiB\n",
       "1 x<-benchmark_harmony(obj) 37.08            -106.1            \n",
       "  Peak_RAM_Used_MiB\n",
       "1 758              "
      ]
     },
     "metadata": {},
     "output_type": "display_data"
    }
   ],
   "source": [
    "result"
   ]
  }
 ],
 "metadata": {
  "kernelspec": {
   "display_name": "R",
   "language": "R",
   "name": "ir"
  },
  "language_info": {
   "codemirror_mode": "r",
   "file_extension": ".r",
   "mimetype": "text/x-r-source",
   "name": "R",
   "pygments_lexer": "r",
   "version": "4.2.0"
  }
 },
 "nbformat": 4,
 "nbformat_minor": 5
}
