{
 "cells": [
  {
   "cell_type": "code",
   "execution_count": null,
   "metadata": {
    "scrolled": true
   },
   "outputs": [],
   "source": [
    "library(Seurat)\n",
    "library(Matrix)\n",
    "library(reticulate)\n",
    "library(glmpca)\n",
    "library(peakRAM)\n",
    "library(scry)\n",
    "library(SingleCellExperiment)\n",
    "library(glmGamPoi)\n",
    "library(harmony)\n",
    "library(reticulate)"
   ]
  },
  {
   "cell_type": "markdown",
   "metadata": {},
   "source": [
    "# Load data"
   ]
  },
  {
   "cell_type": "code",
   "execution_count": 4,
   "metadata": {},
   "outputs": [],
   "source": [
    "sparse <- import('scipy.sparse')\n",
    "mtx <- sparse$load_npz('/data01/hanbin973/fastrna_paper/datasets/mouse_atlas/GSE119945_gene_count_sub.npz')\n",
    "meta <- read.csv('/data01/hanbin973/fastrna_paper/datasets/mouse_atlas/cell_annotate_sub.csv')"
   ]
  },
  {
   "cell_type": "code",
   "execution_count": 5,
   "metadata": {},
   "outputs": [],
   "source": [
    "colnames(mtx) <- rownames(meta)\n",
    "rownames(mtx) <- 1:nrow(mtx)\n",
    "covmat <- model.matrix(as.formula('~factor(embryo_id)'), meta)\n",
    "covmat <- covmat[,2:ncol(covmat)]\n",
    "meta[,paste0('batch_',1:ncol(covmat))] <- covmat"
   ]
  },
  {
   "cell_type": "markdown",
   "metadata": {},
   "source": [
    "# sctransform"
   ]
  },
  {
   "cell_type": "code",
   "execution_count": 6,
   "metadata": {},
   "outputs": [],
   "source": [
    "# Including batch variable exhuasts the system memory\n",
    "benchmark_seurat_sct<- function(obj){\n",
    "    # create array to store feature variance\n",
    "    var_feature <- rep(0,nrow(obj))\n",
    "    names(var_feature) <- 1:nrow(obj)\n",
    "    \n",
    "    # run sctransform\n",
    "    obj <- SCTransform(obj, variable.features.n=2000,  \n",
    "                       method=\"glmGamPoi\")\n",
    "    \n",
    "    # run pca\n",
    "    obj <- RunPCA(obj, verbose=FALSE)\n",
    "    \n",
    "    # save fesult\n",
    "    write.csv(Embeddings(obj), 'pca_coord/mouse_organogenesis/pca_sct.csv')\n",
    "    var_feature[rownames(HVFInfo(obj))] <- HVFInfo(obj, 'sct')$residual_variance\n",
    "    write.csv(var_feature,'feature_var/mouse_organogenesis/var_sct.csv')\n",
    "    obj\n",
    "}"
   ]
  },
  {
   "cell_type": "code",
   "execution_count": null,
   "metadata": {},
   "outputs": [],
   "source": [
    "obj <- CreateSeuratObject(mtx, meta.data=meta)\n",
    "result <- peakRAM(x <- benchmark_seurat_sct(obj))"
   ]
  },
  {
   "cell_type": "code",
   "execution_count": null,
   "metadata": {},
   "outputs": [],
   "source": [
    "result[,c('Elapsed_Time_sec', 'Peak_RAM_Used_MiB')]"
   ]
  },
  {
   "cell_type": "markdown",
   "metadata": {},
   "source": [
    "# LogNorm"
   ]
  },
  {
   "cell_type": "code",
   "execution_count": 6,
   "metadata": {},
   "outputs": [],
   "source": [
    "benchmark_seurat_log <- function(obj){\n",
    "    obj <- NormalizeData(obj)\n",
    "    obj <- FindVariableFeatures(obj, verbose=FALSE, nfeatures=2000)\n",
    "    obj <- ScaleData(obj, verbose=FALSE)\n",
    "    obj <- RunPCA(obj, verbose=FALSE)\n",
    "    write.csv(Embeddings(obj), 'pca_coord/mouse_organogenesis/pca_log.csv')\n",
    "    write.csv(HVFInfo(obj)$variance.standardized, 'feature_var/mouse_organogenesis/var_log.csv')\n",
    "    obj\n",
    "}"
   ]
  },
  {
   "cell_type": "code",
   "execution_count": 8,
   "metadata": {},
   "outputs": [],
   "source": [
    "obj <- CreateSeuratObject(mtx, meta.data=meta)\n",
    "result <- peakRAM(x <- benchmark_seurat_log(obj))"
   ]
  },
  {
   "cell_type": "code",
   "execution_count": 9,
   "metadata": {},
   "outputs": [
    {
     "data": {
      "text/html": [
       "<table class=\"dataframe\">\n",
       "<caption>A data.frame: 1 × 2</caption>\n",
       "<thead>\n",
       "\t<tr><th></th><th scope=col>Elapsed_Time_sec</th><th scope=col>Peak_RAM_Used_MiB</th></tr>\n",
       "\t<tr><th></th><th scope=col>&lt;dbl&gt;</th><th scope=col>&lt;dbl&gt;</th></tr>\n",
       "</thead>\n",
       "<tbody>\n",
       "\t<tr><th scope=row>1</th><td>156.251</td><td>11497</td></tr>\n",
       "</tbody>\n",
       "</table>\n"
      ],
      "text/latex": [
       "A data.frame: 1 × 2\n",
       "\\begin{tabular}{r|ll}\n",
       "  & Elapsed\\_Time\\_sec & Peak\\_RAM\\_Used\\_MiB\\\\\n",
       "  & <dbl> & <dbl>\\\\\n",
       "\\hline\n",
       "\t1 & 156.251 & 11497\\\\\n",
       "\\end{tabular}\n"
      ],
      "text/markdown": [
       "\n",
       "A data.frame: 1 × 2\n",
       "\n",
       "| <!--/--> | Elapsed_Time_sec &lt;dbl&gt; | Peak_RAM_Used_MiB &lt;dbl&gt; |\n",
       "|---|---|---|\n",
       "| 1 | 156.251 | 11497 |\n",
       "\n"
      ],
      "text/plain": [
       "  Elapsed_Time_sec Peak_RAM_Used_MiB\n",
       "1 156.251          11497            "
      ]
     },
     "metadata": {},
     "output_type": "display_data"
    }
   ],
   "source": [
    "result[,c('Elapsed_Time_sec', 'Peak_RAM_Used_MiB')]"
   ]
  }
 ],
 "metadata": {
  "kernelspec": {
   "display_name": "R",
   "language": "R",
   "name": "ir"
  },
  "language_info": {
   "codemirror_mode": "r",
   "file_extension": ".r",
   "mimetype": "text/x-r-source",
   "name": "R",
   "pygments_lexer": "r",
   "version": "4.2.0"
  }
 },
 "nbformat": 4,
 "nbformat_minor": 5
}
