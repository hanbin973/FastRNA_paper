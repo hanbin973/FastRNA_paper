{
 "cells": [
  {
   "cell_type": "code",
   "execution_count": 1,
   "id": "858d653e",
   "metadata": {
    "scrolled": true
   },
   "outputs": [
    {
     "name": "stderr",
     "output_type": "stream",
     "text": [
      "Warning message in fun(libname, pkgname):\n",
      "“rgeos: versions of GEOS runtime 3.9.1-CAPI-1.14.2\n",
      "and GEOS at installation 3.9.1dev-CAPI-1.14.1differ”\n",
      "Attaching SeuratObject\n",
      "\n",
      "Attaching sp\n",
      "\n",
      "Loading required package: SummarizedExperiment\n",
      "\n",
      "Loading required package: MatrixGenerics\n",
      "\n",
      "Loading required package: matrixStats\n",
      "\n",
      "\n",
      "Attaching package: ‘MatrixGenerics’\n",
      "\n",
      "\n",
      "The following objects are masked from ‘package:matrixStats’:\n",
      "\n",
      "    colAlls, colAnyNAs, colAnys, colAvgsPerRowSet, colCollapse,\n",
      "    colCounts, colCummaxs, colCummins, colCumprods, colCumsums,\n",
      "    colDiffs, colIQRDiffs, colIQRs, colLogSumExps, colMadDiffs,\n",
      "    colMads, colMaxs, colMeans2, colMedians, colMins, colOrderStats,\n",
      "    colProds, colQuantiles, colRanges, colRanks, colSdDiffs, colSds,\n",
      "    colSums2, colTabulates, colVarDiffs, colVars, colWeightedMads,\n",
      "    colWeightedMeans, colWeightedMedians, colWeightedSds,\n",
      "    colWeightedVars, rowAlls, rowAnyNAs, rowAnys, rowAvgsPerColSet,\n",
      "    rowCollapse, rowCounts, rowCummaxs, rowCummins, rowCumprods,\n",
      "    rowCumsums, rowDiffs, rowIQRDiffs, rowIQRs, rowLogSumExps,\n",
      "    rowMadDiffs, rowMads, rowMaxs, rowMeans2, rowMedians, rowMins,\n",
      "    rowOrderStats, rowProds, rowQuantiles, rowRanges, rowRanks,\n",
      "    rowSdDiffs, rowSds, rowSums2, rowTabulates, rowVarDiffs, rowVars,\n",
      "    rowWeightedMads, rowWeightedMeans, rowWeightedMedians,\n",
      "    rowWeightedSds, rowWeightedVars\n",
      "\n",
      "\n",
      "Loading required package: GenomicRanges\n",
      "\n",
      "Loading required package: stats4\n",
      "\n",
      "Loading required package: BiocGenerics\n",
      "\n",
      "\n",
      "Attaching package: ‘BiocGenerics’\n",
      "\n",
      "\n",
      "The following objects are masked from ‘package:stats’:\n",
      "\n",
      "    IQR, mad, sd, var, xtabs\n",
      "\n",
      "\n",
      "The following objects are masked from ‘package:base’:\n",
      "\n",
      "    anyDuplicated, append, as.data.frame, basename, cbind, colnames,\n",
      "    dirname, do.call, duplicated, eval, evalq, Filter, Find, get, grep,\n",
      "    grepl, intersect, is.unsorted, lapply, Map, mapply, match, mget,\n",
      "    order, paste, pmax, pmax.int, pmin, pmin.int, Position, rank,\n",
      "    rbind, Reduce, rownames, sapply, setdiff, sort, table, tapply,\n",
      "    union, unique, unsplit, which.max, which.min\n",
      "\n",
      "\n",
      "Loading required package: S4Vectors\n",
      "\n",
      "\n",
      "Attaching package: ‘S4Vectors’\n",
      "\n",
      "\n",
      "The following objects are masked from ‘package:Matrix’:\n",
      "\n",
      "    expand, unname\n",
      "\n",
      "\n",
      "The following objects are masked from ‘package:base’:\n",
      "\n",
      "    expand.grid, I, unname\n",
      "\n",
      "\n",
      "Loading required package: IRanges\n",
      "\n",
      "\n",
      "Attaching package: ‘IRanges’\n",
      "\n",
      "\n",
      "The following object is masked from ‘package:sp’:\n",
      "\n",
      "    %over%\n",
      "\n",
      "\n",
      "Loading required package: GenomeInfoDb\n",
      "\n",
      "Loading required package: Biobase\n",
      "\n",
      "Welcome to Bioconductor\n",
      "\n",
      "    Vignettes contain introductory material; view with\n",
      "    'browseVignettes()'. To cite Bioconductor, see\n",
      "    'citation(\"Biobase\")', and for packages 'citation(\"pkgname\")'.\n",
      "\n",
      "\n",
      "\n",
      "Attaching package: ‘Biobase’\n",
      "\n",
      "\n",
      "The following object is masked from ‘package:MatrixGenerics’:\n",
      "\n",
      "    rowMedians\n",
      "\n",
      "\n",
      "The following objects are masked from ‘package:matrixStats’:\n",
      "\n",
      "    anyMissing, rowMedians\n",
      "\n",
      "\n",
      "\n",
      "Attaching package: ‘SummarizedExperiment’\n",
      "\n",
      "\n",
      "The following object is masked from ‘package:SeuratObject’:\n",
      "\n",
      "    Assays\n",
      "\n",
      "\n",
      "The following object is masked from ‘package:Seurat’:\n",
      "\n",
      "    Assays\n",
      "\n",
      "\n",
      "Loading required package: Rcpp\n",
      "\n"
     ]
    }
   ],
   "source": [
    "library(Seurat)\n",
    "library(Matrix)\n",
    "library(reticulate)\n",
    "library(glmpca)\n",
    "library(peakRAM)\n",
    "library(scry)\n",
    "library(SingleCellExperiment)\n",
    "library(glmGamPoi)\n",
    "library(harmony)"
   ]
  },
  {
   "cell_type": "markdown",
   "id": "24efb453",
   "metadata": {},
   "source": [
    "# Load data"
   ]
  },
  {
   "cell_type": "code",
   "execution_count": 3,
   "id": "c3fa8dee",
   "metadata": {},
   "outputs": [],
   "source": [
    "mtx <- readMM('../datasets/pbmc_ssc/mat.mtx')\n",
    "meta <- read.csv('../datasets/pbmc_ssc/meta.csv', row.names=1)\n",
    "colnames(mtx) <- rownames(meta)\n",
    "rownames(mtx) <- 1:nrow(mtx)\n",
    "covmat <- model.matrix(as.formula('~factor(Method)'), meta)\n",
    "covmat <- covmat[,2:ncol(covmat)]\n",
    "meta[,paste0('batch_',1:ncol(covmat))] <- covmat"
   ]
  },
  {
   "cell_type": "markdown",
   "id": "7847f3ff",
   "metadata": {},
   "source": [
    "# lognorm - nobatch"
   ]
  },
  {
   "cell_type": "code",
   "execution_count": 7,
   "id": "3a227341",
   "metadata": {},
   "outputs": [],
   "source": [
    "benchmark_seurat_log <- function(obj){\n",
    "    obj <- NormalizeData(obj)\n",
    "    obj <- FindVariableFeatures(obj, verbose=FALSE, nfeatures=2000)\n",
    "    obj <- ScaleData(obj, verbose=FALSE)\n",
    "    obj <- RunPCA(obj, verbose=FALSE)\n",
    "    write.csv(Embeddings(obj), 'pca_coord/pbmcssc/pca_log_nobatch.csv')\n",
    "    obj\n",
    "}"
   ]
  },
  {
   "cell_type": "code",
   "execution_count": 8,
   "id": "f6dbb794",
   "metadata": {},
   "outputs": [],
   "source": [
    "obj <- CreateSeuratObject(mtx, meta.data=meta)\n",
    "result <- peakRAM(x <- benchmark_seurat_log(obj))"
   ]
  },
  {
   "cell_type": "code",
   "execution_count": 9,
   "id": "2b7d5251",
   "metadata": {},
   "outputs": [
    {
     "data": {
      "text/html": [
       "<table class=\"dataframe\">\n",
       "<caption>A data.frame: 1 × 2</caption>\n",
       "<thead>\n",
       "\t<tr><th></th><th scope=col>Elapsed_Time_sec</th><th scope=col>Peak_RAM_Used_MiB</th></tr>\n",
       "\t<tr><th></th><th scope=col>&lt;dbl&gt;</th><th scope=col>&lt;dbl&gt;</th></tr>\n",
       "</thead>\n",
       "<tbody>\n",
       "\t<tr><th scope=row>1</th><td>10.804</td><td>732.5</td></tr>\n",
       "</tbody>\n",
       "</table>\n"
      ],
      "text/latex": [
       "A data.frame: 1 × 2\n",
       "\\begin{tabular}{r|ll}\n",
       "  & Elapsed\\_Time\\_sec & Peak\\_RAM\\_Used\\_MiB\\\\\n",
       "  & <dbl> & <dbl>\\\\\n",
       "\\hline\n",
       "\t1 & 10.804 & 732.5\\\\\n",
       "\\end{tabular}\n"
      ],
      "text/markdown": [
       "\n",
       "A data.frame: 1 × 2\n",
       "\n",
       "| <!--/--> | Elapsed_Time_sec &lt;dbl&gt; | Peak_RAM_Used_MiB &lt;dbl&gt; |\n",
       "|---|---|---|\n",
       "| 1 | 10.804 | 732.5 |\n",
       "\n"
      ],
      "text/plain": [
       "  Elapsed_Time_sec Peak_RAM_Used_MiB\n",
       "1 10.804           732.5            "
      ]
     },
     "metadata": {},
     "output_type": "display_data"
    }
   ],
   "source": [
    "result[,c('Elapsed_Time_sec', 'Peak_RAM_Used_MiB')]"
   ]
  },
  {
   "cell_type": "markdown",
   "id": "75ccee7e",
   "metadata": {},
   "source": [
    "# glmpca - nobatch"
   ]
  },
  {
   "cell_type": "code",
   "execution_count": 4,
   "id": "714e17ec",
   "metadata": {},
   "outputs": [],
   "source": [
    "benchmark_scry_glmpca <- function(obj){\n",
    "    obj <- devianceFeatureSelection(obj, assay=\"counts\", sorted=TRUE)\n",
    "    obj2 <- obj[1:2000,]\n",
    "    obj2 <- GLMPCA(obj2, 50, assay=\"counts\", minibatch=\"stochastic\")\n",
    "    write.csv(metadata(obj2)$glmpca$factors, 'pca_coord/pbmcssc/pca_glmpca_nobatch.csv')\n",
    "}"
   ]
  },
  {
   "cell_type": "code",
   "execution_count": 5,
   "id": "d65e02d7",
   "metadata": {},
   "outputs": [],
   "source": [
    "obj <- SingleCellExperiment(list(counts=mtx))\n",
    "colData(obj)[,paste0('batch_',1:ncol(covmat))] <- covmat\n",
    "result <- peakRAM(x <- benchmark_scry_glmpca(obj))"
   ]
  },
  {
   "cell_type": "code",
   "execution_count": 6,
   "id": "40e34a97",
   "metadata": {},
   "outputs": [
    {
     "data": {
      "text/html": [
       "<table class=\"dataframe\">\n",
       "<caption>A data.frame: 1 × 2</caption>\n",
       "<thead>\n",
       "\t<tr><th></th><th scope=col>Elapsed_Time_sec</th><th scope=col>Peak_RAM_Used_MiB</th></tr>\n",
       "\t<tr><th></th><th scope=col>&lt;dbl&gt;</th><th scope=col>&lt;dbl&gt;</th></tr>\n",
       "</thead>\n",
       "<tbody>\n",
       "\t<tr><th scope=row>1</th><td>1114.301</td><td>1485.8</td></tr>\n",
       "</tbody>\n",
       "</table>\n"
      ],
      "text/latex": [
       "A data.frame: 1 × 2\n",
       "\\begin{tabular}{r|ll}\n",
       "  & Elapsed\\_Time\\_sec & Peak\\_RAM\\_Used\\_MiB\\\\\n",
       "  & <dbl> & <dbl>\\\\\n",
       "\\hline\n",
       "\t1 & 1114.301 & 1485.8\\\\\n",
       "\\end{tabular}\n"
      ],
      "text/markdown": [
       "\n",
       "A data.frame: 1 × 2\n",
       "\n",
       "| <!--/--> | Elapsed_Time_sec &lt;dbl&gt; | Peak_RAM_Used_MiB &lt;dbl&gt; |\n",
       "|---|---|---|\n",
       "| 1 | 1114.301 | 1485.8 |\n",
       "\n"
      ],
      "text/plain": [
       "  Elapsed_Time_sec Peak_RAM_Used_MiB\n",
       "1 1114.301         1485.8           "
      ]
     },
     "metadata": {},
     "output_type": "display_data"
    }
   ],
   "source": [
    "result[,c('Elapsed_Time_sec', 'Peak_RAM_Used_MiB')]"
   ]
  }
 ],
 "metadata": {
  "kernelspec": {
   "display_name": "R",
   "language": "R",
   "name": "ir"
  },
  "language_info": {
   "codemirror_mode": "r",
   "file_extension": ".r",
   "mimetype": "text/x-r-source",
   "name": "R",
   "pygments_lexer": "r",
   "version": "4.2.0"
  }
 },
 "nbformat": 4,
 "nbformat_minor": 5
}
