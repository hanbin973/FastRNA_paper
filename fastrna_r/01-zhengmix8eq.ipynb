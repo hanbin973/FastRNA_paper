{
 "cells": [
  {
   "cell_type": "code",
   "execution_count": 1,
   "id": "858d653e",
   "metadata": {},
   "outputs": [
    {
     "name": "stderr",
     "output_type": "stream",
     "text": [
      "Warning message in fun(libname, pkgname):\n",
      "“rgeos: versions of GEOS runtime 3.9.1-CAPI-1.14.2\n",
      "and GEOS at installation 3.9.1dev-CAPI-1.14.1differ”\n",
      "Attaching SeuratObject\n",
      "\n",
      "Attaching sp\n",
      "\n",
      "Loading required package: SummarizedExperiment\n",
      "\n",
      "Loading required package: MatrixGenerics\n",
      "\n",
      "Loading required package: matrixStats\n",
      "\n",
      "\n",
      "Attaching package: ‘MatrixGenerics’\n",
      "\n",
      "\n",
      "The following objects are masked from ‘package:matrixStats’:\n",
      "\n",
      "    colAlls, colAnyNAs, colAnys, colAvgsPerRowSet, colCollapse,\n",
      "    colCounts, colCummaxs, colCummins, colCumprods, colCumsums,\n",
      "    colDiffs, colIQRDiffs, colIQRs, colLogSumExps, colMadDiffs,\n",
      "    colMads, colMaxs, colMeans2, colMedians, colMins, colOrderStats,\n",
      "    colProds, colQuantiles, colRanges, colRanks, colSdDiffs, colSds,\n",
      "    colSums2, colTabulates, colVarDiffs, colVars, colWeightedMads,\n",
      "    colWeightedMeans, colWeightedMedians, colWeightedSds,\n",
      "    colWeightedVars, rowAlls, rowAnyNAs, rowAnys, rowAvgsPerColSet,\n",
      "    rowCollapse, rowCounts, rowCummaxs, rowCummins, rowCumprods,\n",
      "    rowCumsums, rowDiffs, rowIQRDiffs, rowIQRs, rowLogSumExps,\n",
      "    rowMadDiffs, rowMads, rowMaxs, rowMeans2, rowMedians, rowMins,\n",
      "    rowOrderStats, rowProds, rowQuantiles, rowRanges, rowRanks,\n",
      "    rowSdDiffs, rowSds, rowSums2, rowTabulates, rowVarDiffs, rowVars,\n",
      "    rowWeightedMads, rowWeightedMeans, rowWeightedMedians,\n",
      "    rowWeightedSds, rowWeightedVars\n",
      "\n",
      "\n",
      "Loading required package: GenomicRanges\n",
      "\n",
      "Loading required package: stats4\n",
      "\n",
      "Loading required package: BiocGenerics\n",
      "\n",
      "\n",
      "Attaching package: ‘BiocGenerics’\n",
      "\n",
      "\n",
      "The following objects are masked from ‘package:stats’:\n",
      "\n",
      "    IQR, mad, sd, var, xtabs\n",
      "\n",
      "\n",
      "The following objects are masked from ‘package:base’:\n",
      "\n",
      "    anyDuplicated, append, as.data.frame, basename, cbind, colnames,\n",
      "    dirname, do.call, duplicated, eval, evalq, Filter, Find, get, grep,\n",
      "    grepl, intersect, is.unsorted, lapply, Map, mapply, match, mget,\n",
      "    order, paste, pmax, pmax.int, pmin, pmin.int, Position, rank,\n",
      "    rbind, Reduce, rownames, sapply, setdiff, sort, table, tapply,\n",
      "    union, unique, unsplit, which.max, which.min\n",
      "\n",
      "\n",
      "Loading required package: S4Vectors\n",
      "\n",
      "\n",
      "Attaching package: ‘S4Vectors’\n",
      "\n",
      "\n",
      "The following objects are masked from ‘package:Matrix’:\n",
      "\n",
      "    expand, unname\n",
      "\n",
      "\n",
      "The following objects are masked from ‘package:base’:\n",
      "\n",
      "    expand.grid, I, unname\n",
      "\n",
      "\n",
      "Loading required package: IRanges\n",
      "\n",
      "\n",
      "Attaching package: ‘IRanges’\n",
      "\n",
      "\n",
      "The following object is masked from ‘package:sp’:\n",
      "\n",
      "    %over%\n",
      "\n",
      "\n",
      "Loading required package: GenomeInfoDb\n",
      "\n",
      "Loading required package: Biobase\n",
      "\n",
      "Welcome to Bioconductor\n",
      "\n",
      "    Vignettes contain introductory material; view with\n",
      "    'browseVignettes()'. To cite Bioconductor, see\n",
      "    'citation(\"Biobase\")', and for packages 'citation(\"pkgname\")'.\n",
      "\n",
      "\n",
      "\n",
      "Attaching package: ‘Biobase’\n",
      "\n",
      "\n",
      "The following object is masked from ‘package:MatrixGenerics’:\n",
      "\n",
      "    rowMedians\n",
      "\n",
      "\n",
      "The following objects are masked from ‘package:matrixStats’:\n",
      "\n",
      "    anyMissing, rowMedians\n",
      "\n",
      "\n",
      "\n",
      "Attaching package: ‘SummarizedExperiment’\n",
      "\n",
      "\n",
      "The following object is masked from ‘package:SeuratObject’:\n",
      "\n",
      "    Assays\n",
      "\n",
      "\n",
      "The following object is masked from ‘package:Seurat’:\n",
      "\n",
      "    Assays\n",
      "\n",
      "\n"
     ]
    }
   ],
   "source": [
    "library(Seurat)\n",
    "library(Matrix)\n",
    "library(reticulate)\n",
    "library(glmpca)\n",
    "library(peakRAM)\n",
    "library(scry)\n",
    "library(SingleCellExperiment)\n",
    "library(glmGamPoi)"
   ]
  },
  {
   "cell_type": "markdown",
   "id": "24efb453",
   "metadata": {},
   "source": [
    "# Load data"
   ]
  },
  {
   "cell_type": "code",
   "execution_count": 2,
   "id": "c3fa8dee",
   "metadata": {},
   "outputs": [],
   "source": [
    "mtx <- readMM('../datasets/zhengmix8eq/mat.mtx')\n",
    "meta <- read.csv('../datasets/zhengmix8eq/meta.csv', row.names=1)\n",
    "colnames(mtx) <- rownames(meta)\n",
    "rownames(mtx) <- 1:nrow(mtx)"
   ]
  },
  {
   "cell_type": "markdown",
   "id": "9c682a5b",
   "metadata": {},
   "source": [
    "# Seurat pipeline - log"
   ]
  },
  {
   "cell_type": "code",
   "execution_count": 3,
   "id": "65828dd6",
   "metadata": {},
   "outputs": [],
   "source": [
    "benchmark_seurat_log <- function(obj){\n",
    "    obj <- NormalizeData(obj)\n",
    "    obj <- FindVariableFeatures(obj, verbose=FALSE, nfeatures=2000)\n",
    "    obj <- ScaleData(obj, verbose=FALSE)\n",
    "    obj <- RunPCA(obj, verbose=FALSE)\n",
    "    write.csv(Embeddings(obj), 'pca_coord/zhengmix8eq/pca_log.csv')\n",
    "    write.csv(HVFInfo(obj)$variance.standardized, 'feature_var/zhengmix8eq/var_log.csv')\n",
    "    obj\n",
    "}"
   ]
  },
  {
   "cell_type": "code",
   "execution_count": 4,
   "id": "354c9411",
   "metadata": {},
   "outputs": [],
   "source": [
    "obj <- CreateSeuratObject(mtx, meta.data=meta)\n",
    "result <- peakRAM(x <- benchmark_seurat_log(obj))"
   ]
  },
  {
   "cell_type": "code",
   "execution_count": 5,
   "id": "50c4620b",
   "metadata": {},
   "outputs": [
    {
     "data": {
      "text/html": [
       "<table class=\"dataframe\">\n",
       "<caption>A data.frame: 1 × 2</caption>\n",
       "<thead>\n",
       "\t<tr><th></th><th scope=col>Elapsed_Time_sec</th><th scope=col>Peak_RAM_Used_MiB</th></tr>\n",
       "\t<tr><th></th><th scope=col>&lt;dbl&gt;</th><th scope=col>&lt;dbl&gt;</th></tr>\n",
       "</thead>\n",
       "<tbody>\n",
       "\t<tr><th scope=row>1</th><td>8.047</td><td>228.4</td></tr>\n",
       "</tbody>\n",
       "</table>\n"
      ],
      "text/latex": [
       "A data.frame: 1 × 2\n",
       "\\begin{tabular}{r|ll}\n",
       "  & Elapsed\\_Time\\_sec & Peak\\_RAM\\_Used\\_MiB\\\\\n",
       "  & <dbl> & <dbl>\\\\\n",
       "\\hline\n",
       "\t1 & 8.047 & 228.4\\\\\n",
       "\\end{tabular}\n"
      ],
      "text/markdown": [
       "\n",
       "A data.frame: 1 × 2\n",
       "\n",
       "| <!--/--> | Elapsed_Time_sec &lt;dbl&gt; | Peak_RAM_Used_MiB &lt;dbl&gt; |\n",
       "|---|---|---|\n",
       "| 1 | 8.047 | 228.4 |\n",
       "\n"
      ],
      "text/plain": [
       "  Elapsed_Time_sec Peak_RAM_Used_MiB\n",
       "1 8.047            228.4            "
      ]
     },
     "metadata": {},
     "output_type": "display_data"
    }
   ],
   "source": [
    "result[,c('Elapsed_Time_sec', 'Peak_RAM_Used_MiB')]"
   ]
  },
  {
   "cell_type": "markdown",
   "id": "a5fb13b9",
   "metadata": {},
   "source": [
    "# Seurat pipeline - sct"
   ]
  },
  {
   "cell_type": "code",
   "execution_count": 6,
   "id": "6c2dd171",
   "metadata": {},
   "outputs": [],
   "source": [
    "benchmark_seurat_sct<- function(obj){\n",
    "    var_feature <- rep(0,nrow(obj))\n",
    "    names(var_feature) <- 1:nrow(obj)\n",
    "    \n",
    "    obj <- SCTransform(obj, variable.features.n=2000, verbose=FALSE, method='glmGamPoi')\n",
    "    obj <- RunPCA(obj, verbose=FALSE)\n",
    "    write.csv(Embeddings(obj), 'pca_coord/zhengmix8eq/pca_sct.csv')\n",
    "    var_feature[rownames(HVFInfo(obj))] <- HVFInfo(obj, 'sct')$residual_variance\n",
    "    write.csv(var_feature, 'feature_var/zhengmix8eq/var_sct.csv')\n",
    "    obj\n",
    "}"
   ]
  },
  {
   "cell_type": "code",
   "execution_count": 7,
   "id": "256b2211",
   "metadata": {
    "scrolled": true
   },
   "outputs": [],
   "source": [
    "obj <- CreateSeuratObject(mtx, meta.data=meta)\n",
    "result <- peakRAM(x <- benchmark_seurat_sct(obj))"
   ]
  },
  {
   "cell_type": "code",
   "execution_count": 8,
   "id": "e470ce48",
   "metadata": {},
   "outputs": [
    {
     "data": {
      "text/html": [
       "<table class=\"dataframe\">\n",
       "<caption>A data.frame: 1 × 2</caption>\n",
       "<thead>\n",
       "\t<tr><th></th><th scope=col>Elapsed_Time_sec</th><th scope=col>Peak_RAM_Used_MiB</th></tr>\n",
       "\t<tr><th></th><th scope=col>&lt;dbl&gt;</th><th scope=col>&lt;dbl&gt;</th></tr>\n",
       "</thead>\n",
       "<tbody>\n",
       "\t<tr><th scope=row>1</th><td>67.841</td><td>1763.7</td></tr>\n",
       "</tbody>\n",
       "</table>\n"
      ],
      "text/latex": [
       "A data.frame: 1 × 2\n",
       "\\begin{tabular}{r|ll}\n",
       "  & Elapsed\\_Time\\_sec & Peak\\_RAM\\_Used\\_MiB\\\\\n",
       "  & <dbl> & <dbl>\\\\\n",
       "\\hline\n",
       "\t1 & 67.841 & 1763.7\\\\\n",
       "\\end{tabular}\n"
      ],
      "text/markdown": [
       "\n",
       "A data.frame: 1 × 2\n",
       "\n",
       "| <!--/--> | Elapsed_Time_sec &lt;dbl&gt; | Peak_RAM_Used_MiB &lt;dbl&gt; |\n",
       "|---|---|---|\n",
       "| 1 | 67.841 | 1763.7 |\n",
       "\n"
      ],
      "text/plain": [
       "  Elapsed_Time_sec Peak_RAM_Used_MiB\n",
       "1 67.841           1763.7           "
      ]
     },
     "metadata": {},
     "output_type": "display_data"
    }
   ],
   "source": [
    "result[,c('Elapsed_Time_sec', 'Peak_RAM_Used_MiB')]"
   ]
  },
  {
   "cell_type": "markdown",
   "id": "75ccee7e",
   "metadata": {},
   "source": [
    "# glmpca"
   ]
  },
  {
   "cell_type": "code",
   "execution_count": 9,
   "id": "714e17ec",
   "metadata": {},
   "outputs": [],
   "source": [
    "benchmark_scry_glmpca <- function(obj){\n",
    "    obj <- devianceFeatureSelection(obj, assay=\"counts\", sorted=FALSE)\n",
    "    feature_var <- rowData(obj)$binomial_deviance\n",
    "    write.csv(feature_var/mean(feature_var, na.rm=TRUE), 'feature_var/zhengmix8eq/var_scry.csv')\n",
    "    select_features <- order(-feature_var)[1:2000]\n",
    "    obj2 <- obj[select_features,]\n",
    "    obj2 <- GLMPCA(obj2, 20, assay=\"counts\", minibatch=\"stochastic\")\n",
    "    write.csv(metadata(obj2)$glmpca$factors, 'pca_coord/zhengmix8eq/pca_glmpca.csv')\n",
    "    obj\n",
    "}"
   ]
  },
  {
   "cell_type": "code",
   "execution_count": 10,
   "id": "eb307473",
   "metadata": {},
   "outputs": [],
   "source": [
    "obj <- SingleCellExperiment(list(counts=mtx))\n",
    "result <- peakRAM(x <- benchmark_scry_glmpca(obj))"
   ]
  }
 ],
 "metadata": {
  "kernelspec": {
   "display_name": "R",
   "language": "R",
   "name": "ir"
  },
  "language_info": {
   "codemirror_mode": "r",
   "file_extension": ".r",
   "mimetype": "text/x-r-source",
   "name": "R",
   "pygments_lexer": "r",
   "version": "4.2.0"
  }
 },
 "nbformat": 4,
 "nbformat_minor": 5
}
