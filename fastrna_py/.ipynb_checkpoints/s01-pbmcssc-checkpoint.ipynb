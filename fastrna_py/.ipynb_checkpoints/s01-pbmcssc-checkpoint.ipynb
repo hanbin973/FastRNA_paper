{
 "cells": [
  {
   "cell_type": "code",
   "execution_count": 1,
   "id": "8f57c888",
   "metadata": {},
   "outputs": [],
   "source": [
    "%load_ext memory_profiler\n",
    "\n",
    "import numpy as np\n",
    "\n",
    "import scipy\n",
    "import scipy.sparse as sparse\n",
    "import scipy.io as io\n",
    "\n",
    "import pandas as pd\n",
    "\n",
    "import matplotlib.pyplot as plt\n",
    "import seaborn as sns\n",
    "\n",
    "import scanpy as sc\n",
    "\n",
    "from sklearn.neighbors import KNeighborsClassifier\n",
    "from sklearn.model_selection import LeaveOneOut, cross_val_score\n",
    "from sklearn.metrics import f1_score, silhouette_score, silhouette_samples\n",
    "\n",
    "from openTSNE import TSNE\n",
    "\n",
    "from fastrna.core import *"
   ]
  },
  {
   "cell_type": "markdown",
   "id": "39cf55d3",
   "metadata": {},
   "source": [
    "## FastRNA"
   ]
  },
  {
   "cell_type": "code",
   "execution_count": null,
   "id": "d1b0a95d",
   "metadata": {},
   "outputs": [],
   "source": [
    "mtx = io.mmread('/data01/hanbin973/fastrna_paper/datasets/pbmc_ssc/mat.mtx').astype(np.float32).tocsc()\n",
    "meta = pd.read_csv('/data01/hanbin973/fastrna_paper/datasets/pbmc_ssc/meta.csv', index_col=0)"
   ]
  },
  {
   "cell_type": "code",
   "execution_count": null,
   "id": "fbc3a172",
   "metadata": {},
   "outputs": [],
   "source": [
    "# sort data by batch\n",
    "batch_label = pd.factorize(meta.Method)[0]\n",
    "idx_reorder = batch_label.argsort()\n",
    "blab_reorder = batch_label[idx_reorder]\n",
    "ct_reorder = meta.CellType.values[idx_reorder]\n",
    "mtx_reorder = mtx[:,idx_reorder]"
   ]
  },
  {
   "cell_type": "code",
   "execution_count": null,
   "id": "ef3ea3a1",
   "metadata": {},
   "outputs": [],
   "source": [
    "%time gene_vars = fastrna_hvg(mtx_reorder)\n",
    "gene_order_var = gene_vars.argsort()[::-1]\n",
    "mtx_hvg = mtx_reorder[gene_order_var[:3000],:] \n",
    "mtx_hvg.sort_indices()\n",
    "numi = np.asarray(mtx_reorder.sum(axis=0)).ravel()\n",
    "%time eig_val, eig_vec, pca, rrt = fastrna_pca(mtx_hvg, numi)\n",
    "name = 'pbmcssc'\n",
    "pd.DataFrame(pca).to_csv('pca_coord/%s/pca_fr_nobatch.csv' % name)"
   ]
  },
  {
   "cell_type": "code",
   "execution_count": null,
   "id": "8d8f68ef",
   "metadata": {},
   "outputs": [],
   "source": [
    "meta = pd.read_csv('../datasets/pbmc_ssc/meta.csv', index_col=0)\n",
    "\n",
    "# sort data by batch\n",
    "batch_label = pd.factorize(meta.Method)[0]\n",
    "idx_reorder = batch_label.argsort()\n",
    "blab_reorder = batch_label[idx_reorder]\n",
    "ct_reorder = meta.CellType.values[idx_reorder]\n",
    "\n",
    "name = 'pbmcssc'\n",
    "pca_glmpca = pd.read_csv('../fastrna_r/pca_coord/%s/pca_glmpca_nobatch.csv' % name, index_col=0).values[idx_reorder,:]\n",
    "pca_logpca = pd.read_csv('../fastrna_r/pca_coord/%s/pca_log_nobatch.csv' % name, index_col=0).values[idx_reorder,:]\n",
    "pca_fr = pd.read_csv('pca_coord/%s/pca_fr_nobatch.csv' % name, index_col=0).values\n",
    "\n"
   ]
  },
  {
   "cell_type": "code",
   "execution_count": null,
   "id": "9dc6d45f",
   "metadata": {},
   "outputs": [],
   "source": [
    "sils = []\n",
    "Xs = [pca_glmpca[:,:50], pca_logpca[:,:50], pca_fr]\n",
    "labels = [ct_reorder] * len(Xs)\n",
    "\n",
    "for X, lab in zip(Xs, labels):\n",
    "    sils.append(silhouette_samples(X, lab, metric='cosine'))\n",
    "sils"
   ]
  },
  {
   "cell_type": "code",
   "execution_count": null,
   "id": "5d20a718",
   "metadata": {},
   "outputs": [],
   "source": [
    "scores =[]\n",
    "for X, lab in zip(Xs, labels):\n",
    "    labels = pd.factorize(lab)[0]\n",
    "    k=5\n",
    "    knn = KNeighborsClassifier(n_neighbors=k)\n",
    "    score = cross_val_score(knn, X, labels, cv=5, scoring='accuracy')\n",
    "    scores.append(score)\n",
    "    \n",
    "scores"
   ]
  },
  {
   "cell_type": "code",
   "execution_count": null,
   "id": "bac8d916",
   "metadata": {},
   "outputs": [],
   "source": [
    "sils_b = []\n",
    "Xs = [pca_glmpca[:,:50], pca_logpca[:,:50], pca_fr]\n",
    "labels = [blab_reorder] * len(Xs)\n",
    "for X, lab in zip(Xs, labels):\n",
    "    sils_b.append(silhouette_samples(X, lab, metric='cosine'))\n",
    "sils_b"
   ]
  },
  {
   "cell_type": "code",
   "execution_count": null,
   "id": "59314968",
   "metadata": {},
   "outputs": [],
   "source": [
    "import matplotlib\n",
    "matplotlib.rcParams['font.sans-serif'] = \"Arial\"\n",
    "%config InlineBackend.figure_formats = ['svg']"
   ]
  },
  {
   "cell_type": "code",
   "execution_count": null,
   "id": "8e80380f-e761-4424-bb6c-a5269ad6eced",
   "metadata": {},
   "outputs": [],
   "source": [
    "fig, ax = plt.subplots(1, 3, figsize=(20,6))\n",
    "\n",
    "df = pd.DataFrame(np.array(sils).T, columns=['LogNorm', \n",
    "                                               'GLM-PCA',\n",
    "                                            'FastRNA'])\n",
    "df_melt = pd.melt(df, var_name='Method', value_name='Silhouette score')    \n",
    "sns.barplot(x='Method', y='Silhouette score', data=df_melt, ax=ax[0],\n",
    "           edgecolor='black', linewidth=2, capsize=.2, estimator=np.median)\n",
    "\n",
    "ax[0].set_xlabel(ax[0].get_xlabel(), fontsize=20)\n",
    "ax[0].set_xticklabels(ax[0].get_xticklabels(), fontsize=18, rotation=20)\n",
    "\n",
    "ax[0].set_ylabel(ax[0].get_ylabel() + ' (Higher is better)', fontsize=18)\n",
    "\n",
    "ax[0].bar_label(ax[0].containers[0], fontsize=18, padding=10, fmt='%.3f')\n",
    "ax[0].set_ylim([0,0.6])\n",
    "ax[0].set_title('', fontsize=18, va='bottom')\n",
    "ax[0].set_xlabel('')\n",
    "ax[0].text(0.05, 0.9, 'No batch correction', fontsize=20, transform=ax[0].transAxes)\n",
    "\n",
    "df = pd.DataFrame(np.array(scores).T, columns=['LogNorm', \n",
    "                                               'GLM-PCA',\n",
    "                                              'FastRNA'])\n",
    "df_melt = pd.melt(df, var_name='Method', value_name='5-fold CV score')        \n",
    "sns.barplot(x='Method', y='5-fold CV score', data=df_melt, ax=ax[1],\n",
    "           edgecolor='black', linewidth=2, capsize=.2)\n",
    "\n",
    "ax[1].set_xlabel(ax[1].get_xlabel(), fontsize=20)\n",
    "ax[1].set_xticklabels(ax[1].get_xticklabels(), fontsize=18, rotation=20)\n",
    "\n",
    "ax[1].set_ylabel(ax[1].get_ylabel() + ' (Higher is better)', fontsize=18)\n",
    "\n",
    "ax[1].bar_label(ax[1].containers[0], fontsize=18, padding=10, fmt='%.3f')\n",
    "ax[1].set_ylim([0,1.1])\n",
    "ax[1].set_title('', fontsize=18, va='bottom')\n",
    "ax[1].set_xlabel('')\n",
    "\n",
    "df = pd.DataFrame(np.abs(np.array(sils_b).T), columns=['LogNorm', \n",
    "                                               'GLM-PCA',\n",
    "                                                      'FastRNA'])\n",
    "df_melt = pd.melt(df, var_name='Method', value_name='Batch silhouette score')        \n",
    "sns.barplot(x='Method', y='Batch silhouette score', data=df_melt, ax=ax[2],\n",
    "           edgecolor='black', linewidth=2, capsize=.2, estimator=np.median)\n",
    "\n",
    "ax[2].set_xlabel(ax[2].get_xlabel(), fontsize=20)\n",
    "ax[2].set_xticklabels(ax[2].get_xticklabels(), fontsize=18, rotation=20)\n",
    "\n",
    "ax[2].set_ylabel(ax[2].get_ylabel() + ' (Lower is better)', fontsize=18)\n",
    "\n",
    "ax[2].bar_label(ax[2].containers[0], fontsize=18, padding=10, fmt='%.3f')\n",
    "ax[2].set_ylim([0,0.13])\n",
    "ax[2].set_title('', fontsize=18, va='bottom')\n",
    "ax[2].set_xlabel('')\n",
    "\n",
    "plt.show()"
   ]
  },
  {
   "cell_type": "code",
   "execution_count": null,
   "id": "a5a5c3b0",
   "metadata": {},
   "outputs": [],
   "source": [
    "def tsne_for_pca(pca):\n",
    "    fig, ax = plt.subplots(1, 2, figsize=(14, 6.5))\n",
    "    np.random.seed(0)\n",
    "    tsne = TSNE(n_jobs=16, perplexity=30, exaggeration=2, initialization=pca[:,:2]).fit(pca[:,:])\n",
    "\n",
    "    scatter = sns.scatterplot(x=tsne[:,0], y=tsne[:,1], \n",
    "                    s=5, \n",
    "                    hue=ct_reorder, \n",
    "                    edgecolor='none', \n",
    "                    legend=True,\n",
    "                    ax=ax[0],\n",
    "                    palette='tab10', rasterized=True\n",
    "                    )\n",
    "    sns.scatterplot(x=tsne[:,0], y=tsne[:,1], \n",
    "                    s=5, \n",
    "                    hue=blab_reorder, \n",
    "                    edgecolor='none', \n",
    "                    legend=False,\n",
    "                    ax=ax[1],\n",
    "                    palette='cividis', rasterized=True\n",
    "                    )\n",
    "\n",
    "    ax[0].legend().set_visible(False)\n",
    "\n",
    "    handles0, labels0 = ax[0].get_legend_handles_labels()\n",
    "    legend = fig.legend(handles0, \n",
    "               labels0, \n",
    "               bbox_to_anchor=(0.5,0.05), \n",
    "               loc='upper center', \n",
    "               ncol=2, \n",
    "               fontsize=18, \n",
    "               frameon=False)\n",
    "\n",
    "    legend.set_title('Cell-types', prop={'size':20})\n",
    "\n",
    "    ax[0].set_title('Colored-by-celltype', fontsize=15)\n",
    "    ax[1].set_title('Colored-by-batch', fontsize=15)\n",
    "\n",
    "\n",
    "    plt.show()\n",
    "    return tsne"
   ]
  },
  {
   "cell_type": "code",
   "execution_count": null,
   "id": "7e83e083",
   "metadata": {
    "tags": []
   },
   "outputs": [],
   "source": [
    "tsne_glmpca = tsne_for_pca(pca_glmpca)"
   ]
  },
  {
   "cell_type": "code",
   "execution_count": null,
   "id": "5eb8c7f5",
   "metadata": {},
   "outputs": [],
   "source": [
    "tsne_logpca = tsne_for_pca(pca_logpca)"
   ]
  },
  {
   "cell_type": "code",
   "execution_count": null,
   "id": "09d672a4",
   "metadata": {},
   "outputs": [],
   "source": [
    "tsne_logpca = tsne_for_pca(pca_fr)"
   ]
  },
  {
   "cell_type": "markdown",
   "id": "69465dc2",
   "metadata": {},
   "source": [
    "# Runtime - pbmcssc"
   ]
  },
  {
   "cell_type": "code",
   "execution_count": null,
   "id": "f7d71a87",
   "metadata": {},
   "outputs": [],
   "source": [
    "names = ['LogNorm (No batch)', 'LogNorm (RPCA)', 'scTransform', 'Harmony',\n",
    "        'GLM-PCA (No batch)', 'GLM-PCA', 'analytic Pearson', 'FastRNA']\n",
    "times = [10.804, 81.031, 194.176, 37.08, \n",
    "        1114.301, 1121.989, 10.434, 2.139]\n",
    "\n",
    "fig, ax = plt.subplots(figsize=(7,7))\n",
    "df_time = pd.DataFrame({'Methods': names, 'Time (s)': times})\n",
    "sns.barplot(x='Methods', y='Time (s)', data=df_time, edgecolor='black')\n",
    "\n",
    "ax.set_xlabel(ax.get_xlabel(), fontsize=20)\n",
    "ax.set_xticklabels(ax.get_xticklabels(), fontsize=15, rotation=25, ha='right')\n",
    "ax.set_ylabel(ax.get_ylabel(), fontsize=20)\n",
    "ax.set_yscale('log')\n",
    "ax.bar_label(ax.containers[0], fontsize=13, padding=2, fmt='%.1f')\n",
    "\n",
    "plt.show()"
   ]
  }
 ],
 "metadata": {
  "kernelspec": {
   "display_name": "Python 3 (ipykernel)",
   "language": "python",
   "name": "python3"
  },
  "language_info": {
   "codemirror_mode": {
    "name": "ipython",
    "version": 3
   },
   "file_extension": ".py",
   "mimetype": "text/x-python",
   "name": "python",
   "nbconvert_exporter": "python",
   "pygments_lexer": "ipython3",
   "version": "3.9.12"
  }
 },
 "nbformat": 4,
 "nbformat_minor": 5
}
