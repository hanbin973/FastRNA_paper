{
 "cells": [
  {
   "cell_type": "markdown",
   "id": "af3ca90c",
   "metadata": {},
   "source": [
    "# Ding et al. 2020\n",
    "\n",
    "The original data can be found at the [Broad Single Cell Portal](https://singlecell.broadinstitute.org/single_cell/study/SCP424/single-cell-comparison-pbmc-data).\n",
    "One must first register and login to the portal to downlaod the data.\n",
    "The two files we used are `counts.umi.txt.gz` and `meta.txt`.\n",
    "Since the process requires the use of non-command line tools, we simply provide the procssed data in the FastRNA github repo.\n",
    "\n",
    "The count matrix `mat.mtx` and the metadata `meta.csv` can be found [here](https://github.com/hanbin973/FastRNA/tree/main/docs/source/notebooks/datasets)."
   ]
  }
 ],
 "metadata": {
  "kernelspec": {
   "display_name": "Python 3 (ipykernel)",
   "language": "python",
   "name": "python3"
  },
  "language_info": {
   "codemirror_mode": {
    "name": "ipython",
    "version": 3
   },
   "file_extension": ".py",
   "mimetype": "text/x-python",
   "name": "python",
   "nbconvert_exporter": "python",
   "pygments_lexer": "ipython3",
   "version": "3.10.5"
  }
 },
 "nbformat": 4,
 "nbformat_minor": 5
}
