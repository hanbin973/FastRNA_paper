{
 "cells": [
  {
   "cell_type": "code",
   "execution_count": 1,
   "id": "8673d713",
   "metadata": {},
   "outputs": [
    {
     "name": "stderr",
     "output_type": "stream",
     "text": [
      "'getOption(\"repos\")' replaces Bioconductor standard repositories, see\n",
      "'?repositories' for details\n",
      "\n",
      "replacement repositories:\n",
      "    CRAN: https://cran.r-project.org\n",
      "\n",
      "\n",
      "Bioconductor version 3.15 (BiocManager 1.30.18), R 4.2.0 (2022-04-22)\n",
      "\n",
      "Warning message:\n",
      "“package(s) not installed when version(s) same as current; use `force = TRUE` to\n",
      "  re-install: 'DuoClustering2018'”\n",
      "Old packages: 'broom', 'bslib', 'callr', 'DBI', 'dbplyr', 'devtools', 'edgeR',\n",
      "  'evaluate', 'farver', 'generics', 'GenomeInfoDb', 'gert', 'globals',\n",
      "  'googlesheets4', 'htmltools', 'Libra', 'MASS', 'nlme', 'pillar', 'pkgload',\n",
      "  'processx', 'ps', 'rbibutils', 'RCurl', 'rlang', 'roxygen2', 'sass',\n",
      "  'stringi', 'survival', 'tibble', 'tidyverse', 'tinytex', 'xfun'\n",
      "\n",
      "'getOption(\"repos\")' replaces Bioconductor standard repositories, see\n",
      "'?repositories' for details\n",
      "\n",
      "replacement repositories:\n",
      "    CRAN: https://cran.r-project.org\n",
      "\n",
      "\n",
      "Bioconductor version 3.15 (BiocManager 1.30.18), R 4.2.0 (2022-04-22)\n",
      "\n",
      "Warning message:\n",
      "“package(s) not installed when version(s) same as current; use `force = TRUE` to\n",
      "  re-install: 'SingleCellExperiment'”\n",
      "Old packages: 'broom', 'bslib', 'callr', 'DBI', 'dbplyr', 'devtools', 'edgeR',\n",
      "  'evaluate', 'farver', 'generics', 'GenomeInfoDb', 'gert', 'globals',\n",
      "  'googlesheets4', 'htmltools', 'Libra', 'MASS', 'nlme', 'pillar', 'pkgload',\n",
      "  'processx', 'ps', 'rbibutils', 'RCurl', 'rlang', 'roxygen2', 'sass',\n",
      "  'stringi', 'survival', 'tibble', 'tidyverse', 'tinytex', 'xfun'\n",
      "\n"
     ]
    }
   ],
   "source": [
    "# install DuoClustering2018 and SingleCellExperiment\n",
    "if (!require(\"BiocManager\", quietly = TRUE))\n",
    "    install.packages(\"BiocManager\")\n",
    "\n",
    "BiocManager::install(\"DuoClustering2018\")\n",
    "BiocManager::install(\"SingleCellExperiment\")"
   ]
  },
  {
   "cell_type": "code",
   "execution_count": 2,
   "id": "5d1b0336",
   "metadata": {},
   "outputs": [
    {
     "name": "stderr",
     "output_type": "stream",
     "text": [
      "snapshotDate(): 2022-04-26\n",
      "\n",
      "see ?DuoClustering2018 and browseVignettes('DuoClustering2018') for documentation\n",
      "\n",
      "loading from cache\n",
      "\n",
      "require(“SingleCellExperiment”)\n",
      "\n"
     ]
    }
   ],
   "source": [
    "# Download zhengmix8eq dataset\n",
    "library(DuoClustering2018)\n",
    "library(Matrix)\n",
    "obj<- sce_full_Zhengmix8eq()"
   ]
  },
  {
   "cell_type": "code",
   "execution_count": 3,
   "id": "6d5a21aa",
   "metadata": {},
   "outputs": [
    {
     "data": {
      "text/plain": [
       "NULL"
      ]
     },
     "metadata": {},
     "output_type": "display_data"
    }
   ],
   "source": [
    "# Convert data to mtx\n",
    "mtx <- Matrix(counts(obj), sparse = TRUE)  \n",
    "writeMM(mtx, '../datasets/zhengmix8eq/mat.mtx') # you should create the folder first before running writeMM"
   ]
  },
  {
   "cell_type": "code",
   "execution_count": 4,
   "id": "362c76e2",
   "metadata": {},
   "outputs": [],
   "source": [
    "# save metadata\n",
    "write.csv(colData(obj), '../datasets/zhengmix8eq/meta.csv')"
   ]
  }
 ],
 "metadata": {
  "kernelspec": {
   "display_name": "R",
   "language": "R",
   "name": "ir"
  },
  "language_info": {
   "codemirror_mode": "r",
   "file_extension": ".r",
   "mimetype": "text/x-r-source",
   "name": "R",
   "pygments_lexer": "r",
   "version": "4.2.0"
  }
 },
 "nbformat": 4,
 "nbformat_minor": 5
}
