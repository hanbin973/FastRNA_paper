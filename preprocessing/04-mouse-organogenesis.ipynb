{
 "cells": [
  {
   "cell_type": "markdown",
   "id": "a606b890",
   "metadata": {},
   "source": [
    "## Cao et al. 2019 dataset\n",
    "\n",
    "The dataset can be found in https://oncoscape.v3.sttrcancer.org/atlas.gs.washington.edu.mouse.rna/downloads.\n",
    "Here, we outline the download and preprocessing procedure.\n",
    "\n",
    "First, create folder to save the data.\n",
    "\n",
    "```\n",
    "mkdir ../datasets/mouse_atlas/\n",
    "```\n",
    "\n",
    "Next, download the metadata and the count matrix using `wget`.\n",
    "\n",
    "```\n",
    "wget -O ../datasets/mouse_atlas/mat.mtx https://shendure-web.gs.washington.edu/content/members/cao1025/public/mouse_embryo_atlas/gene_count.txt \n",
    "wget -O ../datasets/mouse_atlas/meta.csv https://shendure-web.gs.washington.edu/content/members/cao1025/public/mouse_embryo_atlas/cell_annotate.csv \n",
    "```\n",
    "\n",
    "In the reproducibility notebook, we load `.npz` instead of `.mtx` simply because `.npz` is faster to load using `scipy.sparse.load_npz` than `.mtx` with `scipy.io.mmread`.\n",
    "Hence, the content of the data in the reproducibility notebook and the original file is identical."
   ]
  },
  {
   "cell_type": "code",
   "execution_count": 1,
   "id": "04cec97f",
   "metadata": {},
   "outputs": [],
   "source": [
    "# load library\n",
    "import scipy.io as io\n",
    "import scipy.sparse as sparse"
   ]
  },
  {
   "cell_type": "code",
   "execution_count": null,
   "id": "f73df3df",
   "metadata": {},
   "outputs": [],
   "source": [
    "# read and save\n",
    "mtx = io.mmread('../datasets/mouse_atlas/mat.mtx').tocsc().astype(np.float32)\n",
    "sparse.save_npz('../datasets/mouse_atlas/mat.npz', mtx)"
   ]
  }
 ],
 "metadata": {
  "kernelspec": {
   "display_name": "Python 3 (ipykernel)",
   "language": "python",
   "name": "python3"
  },
  "language_info": {
   "codemirror_mode": {
    "name": "ipython",
    "version": 3
   },
   "file_extension": ".py",
   "mimetype": "text/x-python",
   "name": "python",
   "nbconvert_exporter": "python",
   "pygments_lexer": "ipython3",
   "version": "3.9.12"
  }
 },
 "nbformat": 4,
 "nbformat_minor": 5
}
